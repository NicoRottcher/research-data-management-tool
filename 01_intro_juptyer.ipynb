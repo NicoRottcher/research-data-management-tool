{
 "cells": [
  {
   "cell_type": "markdown",
   "id": "936f39ba-c27d-46f7-b06e-4f43b7d61858",
   "metadata": {},
   "source": [
    "# Intro to Jupyter Notebooks and SQLite database\n",
    "\n",
    "## You are new to Jupyter Notebooks?\n",
    "\n",
    "In short, Jupyter provides a user-interface to run snippets of Python code, use interactive output, and allowas for Markdown documentation in between the cells.\n",
    "\n",
    "You can run a cell in a Jupyter Notebook, by clicking Shift+Enter"
   ]
  },
  {
   "cell_type": "code",
   "execution_count": 4,
   "id": "389ccdf6-7968-4f7b-8745-9d2aa3aeeb4b",
   "metadata": {},
   "outputs": [
    {
     "name": "stdout",
     "output_type": "stream",
     "text": [
      "Hello world\n"
     ]
    }
   ],
   "source": [
    "print('Hello world')"
   ]
  },
  {
   "cell_type": "markdown",
   "id": "68fc2bdd-5b0b-4c59-b45a-8d4ce577a9c3",
   "metadata": {},
   "source": [
    "## You are new to SQL databases and how to query data?\n",
    "Requests to a SQL database (=query) are scripted using SQL language. \n",
    "\n",
    "To run the SQL query, at first you need to connect to the database. This is a simplified method, which I usually use to connect to database: \n",
    "\n",
    "By default it will return a pandas DataFrame ([pandas documentation](https://pandas.pydata.org/docs/user_guide/index.html)), which can simply be viewed with Jupyters display function"
   ]
  },
  {
   "cell_type": "code",
   "execution_count": 2,
   "id": "5a218bbb-b55b-47aa-9b8c-f6ef3c23ecd1",
   "metadata": {},
   "outputs": [
    {
     "data": {
      "text/html": [
       "<div>\n",
       "<style scoped>\n",
       "    .dataframe tbody tr th:only-of-type {\n",
       "        vertical-align: middle;\n",
       "    }\n",
       "\n",
       "    .dataframe tbody tr th {\n",
       "        vertical-align: top;\n",
       "    }\n",
       "\n",
       "    .dataframe thead th {\n",
       "        text-align: right;\n",
       "    }\n",
       "</style>\n",
       "<table border=\"1\" class=\"dataframe\">\n",
       "  <thead>\n",
       "    <tr style=\"text-align: right;\">\n",
       "      <th></th>\n",
       "      <th>element</th>\n",
       "      <th>atomic_number</th>\n",
       "      <th>M__g_mol</th>\n",
       "    </tr>\n",
       "  </thead>\n",
       "  <tbody>\n",
       "    <tr>\n",
       "      <th>0</th>\n",
       "      <td>H</td>\n",
       "      <td>1</td>\n",
       "      <td>1.0080</td>\n",
       "    </tr>\n",
       "    <tr>\n",
       "      <th>1</th>\n",
       "      <td>He</td>\n",
       "      <td>2</td>\n",
       "      <td>4.0026</td>\n",
       "    </tr>\n",
       "    <tr>\n",
       "      <th>2</th>\n",
       "      <td>Li</td>\n",
       "      <td>3</td>\n",
       "      <td>6.9400</td>\n",
       "    </tr>\n",
       "    <tr>\n",
       "      <th>3</th>\n",
       "      <td>Be</td>\n",
       "      <td>4</td>\n",
       "      <td>9.0122</td>\n",
       "    </tr>\n",
       "    <tr>\n",
       "      <th>4</th>\n",
       "      <td>B</td>\n",
       "      <td>5</td>\n",
       "      <td>10.8100</td>\n",
       "    </tr>\n",
       "    <tr>\n",
       "      <th>...</th>\n",
       "      <td>...</td>\n",
       "      <td>...</td>\n",
       "      <td>...</td>\n",
       "    </tr>\n",
       "    <tr>\n",
       "      <th>87</th>\n",
       "      <td>Ra</td>\n",
       "      <td>88</td>\n",
       "      <td>226.0000</td>\n",
       "    </tr>\n",
       "    <tr>\n",
       "      <th>88</th>\n",
       "      <td>Ac</td>\n",
       "      <td>89</td>\n",
       "      <td>227.0000</td>\n",
       "    </tr>\n",
       "    <tr>\n",
       "      <th>89</th>\n",
       "      <td>Th</td>\n",
       "      <td>90</td>\n",
       "      <td>232.0400</td>\n",
       "    </tr>\n",
       "    <tr>\n",
       "      <th>90</th>\n",
       "      <td>Pa</td>\n",
       "      <td>91</td>\n",
       "      <td>231.0400</td>\n",
       "    </tr>\n",
       "    <tr>\n",
       "      <th>91</th>\n",
       "      <td>U</td>\n",
       "      <td>92</td>\n",
       "      <td>238.0300</td>\n",
       "    </tr>\n",
       "  </tbody>\n",
       "</table>\n",
       "<p>92 rows × 3 columns</p>\n",
       "</div>"
      ],
      "text/plain": [
       "   element  atomic_number  M__g_mol\n",
       "0        H              1    1.0080\n",
       "1       He              2    4.0026\n",
       "2       Li              3    6.9400\n",
       "3       Be              4    9.0122\n",
       "4        B              5   10.8100\n",
       "..     ...            ...       ...\n",
       "87      Ra             88  226.0000\n",
       "88      Ac             89  227.0000\n",
       "89      Th             90  232.0400\n",
       "90      Pa             91  231.0400\n",
       "91       U             92  238.0300\n",
       "\n",
       "[92 rows x 3 columns]"
      ]
     },
     "metadata": {},
     "output_type": "display_data"
    }
   ],
   "source": [
    "import evaluation.utils.db as db\n",
    "elements = db.query_sql('''\n",
    "                        SELECT * \n",
    "                        FROM elements\n",
    "                        ORDER BY atomic_number\n",
    "                        '''\n",
    "                        )\n",
    "display(elements)"
   ]
  },
  {
   "cell_type": "markdown",
   "id": "25d5256b-f1cd-4a4e-baa4-0406f3f22741",
   "metadata": {},
   "source": [
    "# You rather prefer .csv files?\n",
    "You can easily export any pandas DataFrame easily to csv:"
   ]
  },
  {
   "cell_type": "code",
   "execution_count": null,
   "id": "2b29463e-fed4-4ca9-98e1-3007356f5431",
   "metadata": {},
   "outputs": [],
   "source": [
    "# run previous cell to define elements\n",
    "elements.to_csv('elements.csv')"
   ]
  }
 ],
 "metadata": {
  "kernelspec": {
   "display_name": "Python 3 (ipykernel)",
   "language": "python",
   "name": "python3"
  },
  "language_info": {
   "codemirror_mode": {
    "name": "ipython",
    "version": 3
   },
   "file_extension": ".py",
   "mimetype": "text/x-python",
   "name": "python",
   "nbconvert_exporter": "python",
   "pygments_lexer": "ipython3",
   "version": "3.8.15"
  }
 },
 "nbformat": 4,
 "nbformat_minor": 5
}
